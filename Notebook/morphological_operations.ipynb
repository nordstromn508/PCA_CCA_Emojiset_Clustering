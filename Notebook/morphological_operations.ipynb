{
 "cells": [
  {
   "cell_type": "code",
   "execution_count": 182,
   "id": "53adcf77-0220-46ab-9b5b-2c266d408a56",
   "metadata": {},
   "outputs": [],
   "source": [
    "import pandas as pd\n",
    "from sklearn.datasets import make_blobs\n",
    "import numpy as np\n",
    "import matplotlib.pyplot as plt\n",
    "import cv2\n",
    "import random"
   ]
  },
  {
   "cell_type": "code",
   "execution_count": 183,
   "id": "253b3b31-4a37-4938-8458-15c321b497e8",
   "metadata": {},
   "outputs": [],
   "source": [
    "def generate_dataset(n_clusters: int, n_points: int = 100, std: float = 1.0, min: float = -10, max: float = 10, random_state : int = None):\n",
    "    \"\"\"\n",
    "    generates a two dimensional set of points\n",
    "    :param n_clusters: number of clusters to generate\n",
    "    :param n_points: number of total points to generate for all clusters\n",
    "    :param std: standard deviation of cluster points\n",
    "    :param min: minimum point value\n",
    "    :param max: maximum point value\n",
    "    :param random_state: random generator seed\n",
    "    :return: X, array of points shape (n_points, 2)\n",
    "    :return: y, array of point cluster identity\n",
    "    :return: centers, center point for each cluster\n",
    "    \"\"\"\n",
    "    X, y, centers = make_blobs(n_samples=n_points, n_features=2, centers=n_clusters, cluster_std=std, center_box=(min, max), return_centers=True, random_state=random_state)\n",
    "    return X, y, centers"
   ]
  },
  {
   "cell_type": "code",
   "execution_count": 176,
   "id": "b0a9e55b-af43-48ac-9e3d-edbeb945a885",
   "metadata": {},
   "outputs": [],
   "source": [
    "\"\"\"\n",
    "Requirements:\n",
    "the input plot must without axes\n",
    "\"\"\"\n",
    "def generate_save_plot(n_clusters, n_points, std, random_state, plot_path, show=True):\n",
    "    X, y, centers = generate_dataset(\n",
    "        n_clusters = n_clusters, \n",
    "        n_points = n_points,\n",
    "        std = std,\n",
    "        random_state = random_state\n",
    "    )\n",
    "    plt.scatter(X[:, 0], X[:, 1])\n",
    "    plt.axis('off') # to save plot without axes\n",
    "    plt.savefig(plot_path)\n",
    "    if show: plt.show()\n",
    "    plt.clf()\n",
    "        \n",
    "def get_binary_plot(path):\n",
    "    plot = cv2.imread(path, cv2.IMREAD_GRAYSCALE)\n",
    "    bp = plot\n",
    "    bp[plot == 255] = 0;\n",
    "    bp[plot>0] = 255;\n",
    "    return bp"
   ]
  },
  {
   "cell_type": "code",
   "execution_count": 180,
   "id": "b6580db6-321f-4a1c-bb6d-d192f660fc15",
   "metadata": {},
   "outputs": [
    {
     "data": {
      "image/png": "[encoded data removed]",
      "text/plain": [
       "<Figure size 432x288 with 1 Axes>"
      ]
     },
     "metadata": {
      "needs_background": "light"
     },
     "output_type": "display_data"
    },
    {
     "data": {
      "text/plain": [
       "<matplotlib.image.AxesImage at 0x7f8a122fcd90>"
      ]
     },
     "execution_count": 180,
     "metadata": {},
     "output_type": "execute_result"
    },
    {
     "data": {
      "image/png": "[encoded data removed]",
      "text/plain": [
       "<Figure size 432x288 with 1 Axes>"
      ]
     },
     "metadata": {
      "needs_background": "light"
     },
     "output_type": "display_data"
    }
   ],
   "source": [
    "generate_save_plot(4, 100, 1.0, 42, '../plots/test.png')\n",
    "binary_plot = get_binary_plot('../plots/test.png')\n",
    "plt.imshow(binary_plot, cmap='gray')"
   ]
  },
  {
   "cell_type": "code",
   "execution_count": 181,
   "id": "824e9eb5-a41d-471b-b954-6e7ea9d5cd71",
   "metadata": {},
   "outputs": [
    {
     "data": {
      "text/plain": [
       "<matplotlib.image.AxesImage at 0x7f8a0ffdbf70>"
      ]
     },
     "execution_count": 181,
     "metadata": {},
     "output_type": "execute_result"
    },
    {
     "data": {
      "image/png": "[encoded data removed]",
      "text/plain": [
       "<Figure size 432x288 with 1 Axes>"
      ]
     },
     "metadata": {
      "needs_background": "light"
     },
     "output_type": "display_data"
    }
   ],
   "source": [
    "s1=(6,6)\n",
    "kernel = cv2.getStructuringElement(cv2.MORPH_RECT, s1)\n",
    "morph1 = cv2.morphologyEx(binary_plot, cv2.MORPH_OPEN, kernel)\n",
    "\n",
    "s2 = (20,20)\n",
    "kernel = cv2.getStructuringElement(cv2.MORPH_RECT, s2)\n",
    "morph2 = cv2.morphologyEx(morph1, cv2.MORPH_CLOSE, kernel)\n",
    "\n",
    "# kernel = np.ones((n,n), np.uint8)\n",
    "# img_dilation = cv2.dilate(binary_plot, kernel, iterations=1)\n",
    "plt.imshow(morph2, cmap='gray')"
   ]
  },
  {
   "cell_type": "code",
   "execution_count": null,
   "id": "b2e02c95-f8a4-4c2b-84a4-d429bba27dd4",
   "metadata": {},
   "outputs": [],
   "source": []
  }
 ],
 "metadata": {
  "kernelspec": {
   "display_name": "Python 3",
   "language": "python",
   "name": "python3"
  },
  "language_info": {
   "codemirror_mode": {
    "name": "ipython",
    "version": 3
   },
   "file_extension": ".py",
   "mimetype": "text/x-python",
   "name": "python",
   "nbconvert_exporter": "python",
   "pygments_lexer": "ipython3",
   "version": "3.8.8"
  }
 },
 "nbformat": 4,
 "nbformat_minor": 5
}
