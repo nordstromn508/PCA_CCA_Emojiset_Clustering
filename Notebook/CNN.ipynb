{
 "cells": [
  {
   "cell_type": "code",
   "execution_count": null,
   "id": "53adcf77-0220-46ab-9b5b-2c266d408a56",
   "metadata": {},
   "outputs": [],
   "source": [
    "import pandas as pd\n",
    "import seaborn as sn\n",
    "from random import shuffle\n",
    "import os\n",
    "from sklearn.datasets import make_blobs\n",
    "import numpy as np\n",
    "import matplotlib.pyplot as plt\n",
    "import cv2\n",
    "import random\n",
    "import tensorflow as tf\n",
    "from tensorflow.keras.optimizers import Adam\n",
    "from tensorflow.keras.layers import Input, Conv2D, Dense, Flatten, Dropout, GlobalMaxPooling2D, MaxPooling2D, BatchNormalization\n",
    "from tensorflow.keras.models import Sequential, load_model\n",
    "from tensorflow.keras.preprocessing.image import ImageDataGenerator\n",
    "from tensorflow.keras.utils import to_categorical"
   ]
  },
  {
   "cell_type": "code",
   "execution_count": null,
   "id": "253b3b31-4a37-4938-8458-15c321b497e8",
   "metadata": {},
   "outputs": [],
   "source": [
    "def generate_dataset(n_clusters: int, n_points: int = 100, std: float = 1.0, min: float = -10, max: float = 10, random_state : int = None):\n",
    "    \"\"\"\n",
    "    generates a two dimensional set of points\n",
    "    :param n_clusters: number of clusters to generate\n",
    "    :param n_points: number of total points to generate for all clusters\n",
    "    :param std: standard deviation of cluster points\n",
    "    :param min: minimum point value\n",
    "    :param max: maximum point value\n",
    "    :param random_state: random generator seed\n",
    "    :return: X, array of points shape (n_points, 2)\n",
    "    :return: y, array of point cluster identity\n",
    "    :return: centers, center point for each cluster\n",
    "    \"\"\"\n",
    "    X, y, centers = make_blobs(n_samples=n_points, n_features=2, centers=n_clusters, cluster_std=std, center_box=(min, max), return_centers=True, random_state=random_state)\n",
    "    return X, y, centers"
   ]
  },
  {
   "cell_type": "code",
   "execution_count": null,
   "id": "b0a9e55b-af43-48ac-9e3d-edbeb945a885",
   "metadata": {},
   "outputs": [],
   "source": [
    "\"\"\"\n",
    "Requirements:\n",
    "the input plot must without axes\n",
    "\"\"\"\n",
    "def generate_save_plot(n_clusters, n_points, std, random_state, plot_path, show=True):\n",
    "    X, y, centers = generate_dataset(\n",
    "        n_clusters = n_clusters, \n",
    "        n_points = n_points,\n",
    "        std = std,\n",
    "        random_state = random_state\n",
    "    )\n",
    "    plt.scatter(X[:, 0], X[:, 1])\n",
    "    plt.axis('off') # to save plot without axes\n",
    "    plt.savefig(plot_path)\n",
    "    if show: plt.show()\n",
    "    plt.clf()\n",
    "        \n",
    "def get_binary_plot(path):\n",
    "    plot = cv2.imread(path, cv2.IMREAD_GRAYSCALE)\n",
    "    bp = plot\n",
    "    bp[plot == 255] = 0;\n",
    "    bp[plot>0] = 255;\n",
    "    return bp\n",
    "\n",
    "\n",
    "\n",
    "# Generate random data for 2-n_clusters, each category has n_samples, out to specific folder\n",
    "def generate_data(n_clusters, n_samples, folder):\n",
    "    total_samples = (n_clusters - 1) * n_samples\n",
    "    random_seeds = random.sample(range(total_samples * 10), total_samples)\n",
    "    seed_index = 0\n",
    "    for i in range(2, n_clusters + 1):\n",
    "        for j in range(n_samples):\n",
    "            seed = random_seeds[seed_index]\n",
    "            random_std = round(random.uniform(0.5, 1.5), 2) # from 0.5-1.5\n",
    "            random_points = random.randint(i*10, 1*100)\n",
    "            generate_save_plot(i, random_points, random_std, seed, \n",
    "                               '../plots/{}/{}_{}.png'.format(folder, i, j), False)\n",
    "            seed_index += 1\n",
    "            \n",
    "\n",
    "            \n",
    "# Load images to array and also its corresponding labels          \n",
    "def load_data(folder):\n",
    "    x = []\n",
    "    y = []\n",
    "    for image_name in os.listdir(folder):\n",
    "        if \".png\" in image_name:\n",
    "            image_name_split = image_name.split('_')\n",
    "            img_path = os.path.join(folder, image_name)\n",
    "            img = get_binary_plot(img_path)\n",
    "            resized = cv2.resize(img, (32,32), interpolation=cv2.INTER_AREA) # resize to 32 * 32\n",
    "    #         gray = tf.image.rgb_to_grayscale(resized)\n",
    "            scaled = resized/255.0\n",
    "            x.append(scaled)\n",
    "            y.append(int(image_name_split[0])*1.0) # make the label as float for regression appraoch perform better\n",
    "        else: \n",
    "            continue\n",
    "    x = np.array(x)\n",
    "    y = np.array(y)\n",
    "    print(x.shape)\n",
    "    print(y.shape)\n",
    "    return x, y"
   ]
  },
  {
   "cell_type": "code",
   "execution_count": null,
   "id": "6335a18b-9e00-4ade-9b66-16ba26ef7a7e",
   "metadata": {},
   "outputs": [],
   "source": [
    "generate_data(6, 100, 'training')\n",
    "generate_data(6, 20, 'validation')\n",
    "generate_data(6, 20, 'test')"
   ]
  },
  {
   "cell_type": "code",
   "execution_count": null,
   "id": "3e720f9a-aba8-4c86-9b50-568b12386b19",
   "metadata": {},
   "outputs": [],
   "source": [
    "size = 32\n",
    "train_x, train_y = load_data('../plots/training')\n",
    "val_x, val_y = load_data('../plots/validation')\n",
    "test_x, test_y = load_data('../plots/test')\n",
    "train_x = train_x.reshape(-1, size, size, 1)\n",
    "val_x = val_x.reshape(-1, size, size, 1)\n",
    "test_x = test_x.reshape(-1, size, size, 1)\n",
    "\n",
    "# classification need one hot encoding\n",
    "# train_y = to_categorical(train_y)\n",
    "# val_y = to_categorical(val_y)"
   ]
  },
  {
   "cell_type": "code",
   "execution_count": null,
   "id": "b6580db6-321f-4a1c-bb6d-d192f660fc15",
   "metadata": {},
   "outputs": [],
   "source": [
    "def create_model(input_shape=(32,32,1), alpha=0.0001):\n",
    "    # Build CNN model\n",
    "    model = Sequential()\n",
    "    model.add(Conv2D(input_shape=input_shape, filters = 32, kernel_size=(3, 3), activation='relu', padding='same')) \n",
    "    model.add(Conv2D(32, (3, 3), activation='relu', padding='same'))\n",
    "    model.add(MaxPooling2D((2, 2)))\n",
    "\n",
    "    model.add(Conv2D(64, (3, 3), activation='relu', padding='same'))\n",
    "    model.add(MaxPooling2D((2, 2)))\n",
    "\n",
    "    model.add(Conv2D(128, (3, 3), activation='relu', padding='same'))\n",
    "    model.add(MaxPooling2D((2, 2)))\n",
    "\n",
    "    model.add(Flatten())\n",
    "    model.add(Dense(256, activation='relu'))\n",
    "    model.add(Dropout(0.2))\n",
    "    model.add(Dense(256, activation='relu'))\n",
    "#     model.add(Dense(7, activation='softmax')) # classification\n",
    "    model.add(Dense(1)) # regression\n",
    "    \n",
    "    # classification approach\n",
    "#     model.compile(\n",
    "#         loss='categorical_crossentropy',\n",
    "#         optimizer=Adam(lr=alpha),\n",
    "#         metrics=['accuracy']\n",
    "#     )\n",
    "    \n",
    "    # reg approach\n",
    "    model.compile(\n",
    "        loss='mean_absolute_error',\n",
    "        optimizer=Adam(lr=alpha),\n",
    "        metrics=['mae']\n",
    "    )\n",
    "    return model"
   ]
  },
  {
   "cell_type": "code",
   "execution_count": null,
   "id": "256cdabc-a7bb-404c-85b4-0cf95c6c218c",
   "metadata": {},
   "outputs": [],
   "source": [
    "\n",
    "model = create_model()\n",
    "history = model.fit(train_x, train_y, validation_data = (val_x, val_y), shuffle=True, epochs=500)\n",
    "model.save('../saved_model/cnn_reg')"
   ]
  },
  {
   "cell_type": "code",
   "execution_count": 203,
   "id": "058f8cc2-8c96-4309-93c8-f45e43f9535a",
   "metadata": {},
   "outputs": [
    {
     "name": "stdout",
     "output_type": "stream",
     "text": [
      "4/4 [==============================] - 0s 8ms/step - loss: 0.8080 - mae: 0.8080\n"
     ]
    },
    {
     "data": {
      "text/plain": [
       "[0.8079712390899658, 0.8079712390899658]"
      ]
     },
     "execution_count": 203,
     "metadata": {},
     "output_type": "execute_result"
    }
   ],
   "source": [
    "trained_model = load_model('../saved_model/cnn_reg')\n",
    "trained_model.evaluate(test_x, test_y)"
   ]
  },
  {
   "cell_type": "code",
   "execution_count": 204,
   "id": "3c1b1c50-565d-4a11-9609-9152637c3071",
   "metadata": {},
   "outputs": [
    {
     "name": "stdout",
     "output_type": "stream",
     "text": [
      "[5. 5. 2. 5. 5. 2. 5. 6. 6. 5. 2. 5. 4. 4. 2. 5. 3. 3. 3. 3. 6. 3. 3. 6.\n",
      " 5. 4. 3. 4. 3. 5. 3. 3. 6. 5. 3. 4. 4. 3. 5. 6. 6. 5. 3. 4. 4. 3. 5. 6.\n",
      " 6. 5. 3. 3. 4. 3. 4. 3. 5. 6. 6. 5. 3. 4. 4. 3. 5. 6. 2. 2. 4. 6. 6. 4.\n",
      " 2. 2. 2. 2. 4. 6. 6. 4. 2. 2. 2. 2. 4. 6. 6. 4. 2. 2. 2. 5. 2. 4. 6. 6.\n",
      " 4. 5. 2. 2.]\n",
      "[3 4 3 4 4 3 5 3 4 4 2 5 3 2 2 4 3 2 2 3 4 3 3 6 3 4 4 5 4 6 3 3 3 4 3 3 4\n",
      " 3 4 6 5 5 4 4 4 4 4 5 6 5 2 3 3 3 5 2 4 5 4 3 3 3 4 3 3 5 3 3 3 3 5 4 2 4\n",
      " 2 3 4 4 6 4 3 2 2 2 3 4 5 4 2 2 2 6 3 3 4 4 3 4 2 2]\n"
     ]
    }
   ],
   "source": [
    "predictions = trained_model.predict(test_x)\n",
    "# y = np.argmax(predictions, axis=1)\n",
    "# print(y)\n",
    "print(test_y)\n",
    "predictions = np.uint8(np.round(predictions)).flatten()\n",
    "predictions[predictions>=6] = 6\n",
    "predictions[predictions<=1] = 2\n",
    "print(predictions)"
   ]
  },
  {
   "cell_type": "code",
   "execution_count": 205,
   "id": "06100714-334a-419b-8f44-cdd0958214e5",
   "metadata": {},
   "outputs": [
    {
     "data": {
      "text/plain": [
       "<AxesSubplot:>"
      ]
     },
     "execution_count": 205,
     "metadata": {},
     "output_type": "execute_result"
    },
    {
     "data": {
      "image/png": "[encoded data removed]",
      "text/plain": [
       "<Figure size 432x288 with 2 Axes>"
      ]
     },
     "metadata": {
      "needs_background": "light"
     },
     "output_type": "display_data"
    }
   ],
   "source": [
    "from sklearn.metrics import confusion_matrix\n",
    "cf = confusion_matrix(test_y, predictions)\n",
    "sn.heatmap(cf, annot=True)"
   ]
  },
  {
   "cell_type": "code",
   "execution_count": null,
   "id": "35e97d84-2cc4-4402-bc71-40572c561ded",
   "metadata": {},
   "outputs": [],
   "source": [
    "kernel = np.ones((5,5), np.uint8)\n",
    "img_dilation = cv2.dilate(bp, kernel, iterations=1)"
   ]
  },
  {
   "cell_type": "code",
   "execution_count": null,
   "id": "ede3dc53-3ce8-4f67-aef6-ae197d66d30e",
   "metadata": {},
   "outputs": [],
   "source": [
    "plt.imshow(img_dilation, cmap='gray')"
   ]
  },
  {
   "cell_type": "code",
   "execution_count": null,
   "id": "b2e02c95-f8a4-4c2b-84a4-d429bba27dd4",
   "metadata": {},
   "outputs": [],
   "source": []
  }
 ],
 "metadata": {
  "kernelspec": {
   "display_name": "Python 3",
   "language": "python",
   "name": "python3"
  },
  "language_info": {
   "codemirror_mode": {
    "name": "ipython",
    "version": 3
   },
   "file_extension": ".py",
   "mimetype": "text/x-python",
   "name": "python",
   "nbconvert_exporter": "python",
   "pygments_lexer": "ipython3",
   "version": "3.8.8"
  }
 },
 "nbformat": 4,
 "nbformat_minor": 5
}
